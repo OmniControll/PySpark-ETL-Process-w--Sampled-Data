{
 "cells": [
  {
   "cell_type": "code",
   "execution_count": null,
   "metadata": {},
   "outputs": [],
   "source": [
    "from pyspark.sql.functions import year, month, dayofweek\n",
    "\n",
    "# Initialize Spark session\n",
    "spark = SparkSession.builder.appName(\"StagingTransform\").getOrCreate()\n",
    "\n",
    "# Read the Parquet file into a DataFrame\n",
    "spark_payment_df = spark.read.parquet('s3://your-bucket-name/path/to/output/payment/') # or redshift\n",
    "\n",
    "# same for product_df\n",
    "spark_product_df = spark.read.parquet('s3://your-bucket-name/path/to/output/payment/') # or redshift"
   ]
  },
  {
   "cell_type": "code",
   "execution_count": null,
   "metadata": {},
   "outputs": [],
   "source": [
    "# we will set up a snapshot system implementation\n",
    "# first we will add new fields, valid_from and valid_to and last extract date (to highlight the last date of the snapshot)\n",
    "\n",
    "from pyspark.sql.functions import lit # lit is used to create a new column with a constant value\n",
    "from datetime import date\n",
    "\n",
    "#define initial snappshot\n",
    "today = date.today()\n",
    "\n",
    "# create new snapshot DF's for product df\n",
    "\n",
    "snapshot_product_df = spark_product_df.withColumn(\"valid_from\", lit(today)) \\\n",
    "                                        .withColumn(\"valid_to\", lit(\"31-23-9999\")) \\\n",
    "                                        .withColumn(\"last_extract\", lit(1))\n",
    "\n",
    "# same for payment df\n",
    "snapshot_payment_df = spark_payment_df.withColumn(\"valid_from\", lit(today)) \\\n",
    "                                        .withColumn(\"valid_to\", lit(\"31-23-9999\")) \\\n",
    "                                        .withColumn(\"last_extract\", lit(1))"
   ]
  }
 ],
 "metadata": {
  "language_info": {
   "name": "python"
  }
 },
 "nbformat": 4,
 "nbformat_minor": 2
}
