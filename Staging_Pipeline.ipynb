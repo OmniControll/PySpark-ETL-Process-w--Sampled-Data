{
 "cells": [
  {
   "cell_type": "code",
   "execution_count": 1,
   "metadata": {},
   "outputs": [
    {
     "name": "stdout",
     "output_type": "stream",
     "text": [
      "root\n",
      " |-- product_id: string (nullable = true)\n",
      " |-- product_name: string (nullable = true)\n",
      " |-- product_category: string (nullable = true)\n",
      " |-- product_price: double (nullable = true)\n",
      " |-- product_description: string (nullable = true)\n",
      "\n",
      "root\n",
      " |-- transaction_id: string (nullable = true)\n",
      " |-- customer_id: string (nullable = true)\n",
      " |-- customer_name: string (nullable = true)\n",
      " |-- payment_amount: double (nullable = true)\n",
      " |-- payment_method: string (nullable = true)\n",
      " |-- transaction_date: date (nullable = true)\n",
      " |-- country: string (nullable = true)\n",
      " |-- product_id: string (nullable = true)\n",
      "\n",
      "+--------------------+------------+----------------+-------------+--------------------+\n",
      "|          product_id|product_name|product_category|product_price| product_description|\n",
      "+--------------------+------------+----------------+-------------+--------------------+\n",
      "|b3092659-9c09-47a...|         not|     Electronics|       140.27|Like factor organ...|\n",
      "|87e9cda0-1e1b-456...|        late|           Books|       943.64|Idea cut nearly p...|\n",
      "|6fc515b1-f72b-407...|      debate|        Clothing|       598.93|Various investmen...|\n",
      "|767818a7-acd5-486...|        last|           Books|       941.79|Set necessary res...|\n",
      "|bda8b365-a6a7-409...|       shake|     Electronics|       446.92|Left send ready its.|\n",
      "+--------------------+------------+----------------+-------------+--------------------+\n",
      "only showing top 5 rows\n",
      "\n",
      "+--------------------+--------------------+----------------+--------------+--------------+----------------+-------------+--------------------+\n",
      "|      transaction_id|         customer_id|   customer_name|payment_amount|payment_method|transaction_date|      country|          product_id|\n",
      "+--------------------+--------------------+----------------+--------------+--------------+----------------+-------------+--------------------+\n",
      "|c7ec46bc-4844-478...|c6cf815e-a97c-489...|     Keith Wiley|        545.36|   Credit Card|      2024-03-29|Cote d'Ivoire|912b77ab-e752-4db...|\n",
      "|b8455e35-d5d3-43f...|1fb51cb2-d4e1-42e...|Trevor Henderson|        425.28| Bank Transfer|      2024-09-10|      Grenada|a26a5be6-d908-4be...|\n",
      "|7b6ac9b7-b4d0-428...|961053bc-6c89-4f4...|   Diana Johnson|         863.8|        PayPal|      2024-02-12|      Germany|69fd2978-987e-40c...|\n",
      "|a6765cc6-b146-430...|8f7310f9-a5f2-400...|   Margaret Kent|        571.44|    Debit Card|      2024-01-18|        Palau|9621f2ea-e82e-4ce...|\n",
      "|7b219079-fd12-4b1...|452445a9-2ccb-40b...|  Susan Browning|        171.84|        PayPal|      2024-02-13|     Tanzania|9baa1b23-bd4d-4d6...|\n",
      "+--------------------+--------------------+----------------+--------------+--------------+----------------+-------------+--------------------+\n",
      "only showing top 5 rows\n",
      "\n"
     ]
    }
   ],
   "source": [
    "import os\n",
    "import pandas as pd\n",
    "from IPython.display import display\n",
    "from pyspark.sql import SparkSession\n",
    "from pyspark.sql.functions import col, avg, when # pyspark sql functions\n",
    "from pyspark.sql.types import StructType, StructField, IntegerType, StringType, FloatType, DateType, TimestampType, DecimalType # pyspark sql types\n",
    "import random\n",
    "from faker import Faker\n",
    "import uuid\n",
    "from dotenv import load_dotenv\n",
    "\n",
    "# Load environment variables from .env file\n",
    "load_dotenv()\n",
    "\n",
    "# SPARK SETUP\n",
    "spark = SparkSession.builder.appName(\"PySpark Synthetic\").getOrCreate() # Create a SparkSession, which is the entry point to any Spark functionality\n",
    "\n",
    "# Initialize Faker\n",
    "fake = Faker()\n",
    "\n",
    "# Generate synthetic product data, this would be the raw data, extract phase, ingestion phase.\n",
    "# can be replaced with data warehouse or data lake creation credentials\n",
    "def generate_synthetic_product_data(num_records=1000):\n",
    "    data = []\n",
    "    product_ids = [fake.uuid4() for _ in range(num_records)]\n",
    "    for product_id in product_ids:\n",
    "        data.append({\n",
    "            'product_id': product_id,\n",
    "            'product_name': fake.word(),\n",
    "            'product_category': random.choice(['Electronics', 'Clothing', 'Books', 'Home & Kitchen']),\n",
    "            'product_price': round(random.uniform(10.0, 1000.0), 2),\n",
    "            'product_description': fake.sentence(),\n",
    "        })\n",
    "    return data, product_ids\n",
    "\n",
    "# Generate synthetic payment data\n",
    "def generate_synthetic_payment_data(num_records=1000, product_ids=None):\n",
    "    if product_ids is None or len(product_ids) < num_records:\n",
    "        raise ValueError(\"Not enough product IDs provided\")\n",
    "    \n",
    "    data = []\n",
    "    for _ in range(num_records): \n",
    "        data.append({\n",
    "            'transaction_id': fake.uuid4(),\n",
    "            'customer_id': fake.uuid4(),\n",
    "            'customer_name': fake.name(),\n",
    "            'payment_amount': round(random.uniform(10.0, 1000.0), 2),\n",
    "            'payment_method': random.choice(['Credit Card', 'Debit Card', 'PayPal', 'Bank Transfer']),\n",
    "            'transaction_date': fake.date_this_year(),\n",
    "            'country': fake.country(),\n",
    "            'product_id': random.choice(product_ids),\n",
    "        })\n",
    "    return data\n",
    "\n",
    "# Generate 1000 records of product data first\n",
    "product_data, product_ids = generate_synthetic_product_data(1000)\n",
    "\n",
    "# Convert product data to Pandas DataFrame before converting to Spark DataFrame\n",
    "product_df = pd.DataFrame(product_data)\n",
    "# Convert to Spark DataFrame\n",
    "spark_product_df = spark.createDataFrame(product_df)\n",
    "\n",
    "# Generate 1000 records of payment data using the product IDs\n",
    "payment_data = generate_synthetic_payment_data(1000, product_ids)\n",
    "\n",
    "# Convert payment data to Pandas DataFrame before converting to Spark DataFrame\n",
    "payment_df = pd.DataFrame(payment_data)\n",
    "# Convert to Spark DataFrame\n",
    "spark_payment_df = spark.createDataFrame(payment_df)\n",
    "\n",
    "# Repartition the DataFrames so that Spark can handle them efficiently\n",
    "spark_product_df = spark_product_df.repartition(4)\n",
    "spark_payment_df = spark_payment_df.repartition(4)\n",
    "\n",
    "# Display schemas of both DataFrames for verification\n",
    "spark_product_df.printSchema()\n",
    "spark_payment_df.printSchema()\n",
    "\n",
    "# Show the first few rows of both DataFrames for verification\n",
    "spark_product_df.show(5)\n",
    "spark_payment_df.show(5)\n"
   ]
  },
  {
   "cell_type": "code",
   "execution_count": 2,
   "metadata": {},
   "outputs": [
    {
     "data": {
      "text/plain": [
       "DataFrame[transaction_id: string, customer_id: string, customer_name: string, payment_amount: double, payment_method: string, transaction_date: date, country: string, product_id: string]"
      ]
     },
     "metadata": {},
     "output_type": "display_data"
    }
   ],
   "source": [
    "# Display the first 10 records\n",
    "display(spark_payment_df.limit(10))"
   ]
  },
  {
   "cell_type": "code",
   "execution_count": 3,
   "metadata": {},
   "outputs": [
    {
     "data": {
      "text/plain": [
       "[('transaction_id', 'string'),\n",
       " ('customer_id', 'string'),\n",
       " ('customer_name', 'string'),\n",
       " ('payment_amount', 'double'),\n",
       " ('payment_method', 'string'),\n",
       " ('transaction_date', 'date'),\n",
       " ('country', 'string'),\n",
       " ('product_id', 'string')]"
      ]
     },
     "execution_count": 3,
     "metadata": {},
     "output_type": "execute_result"
    }
   ],
   "source": [
    "# check data types\n",
    "spark_payment_df.dtypes\n",
    "# double is a float in pyspark"
   ]
  },
  {
   "cell_type": "code",
   "execution_count": 4,
   "metadata": {},
   "outputs": [],
   "source": [
    "\n",
    "# Feature Engineering\n",
    "from pyspark.sql.functions import year, month, dayofweek, datediff, current_date, when, col, avg, sum, row_number, desc\n",
    "from pyspark.sql.window import Window # Window is used for window functions and we need lag function for days since last transaction\n",
    "from pyspark.sql.functions import lag\n",
    "\n",
    "# 1. Extract time-based features. for each row, extract the year, month, and day of the week\n",
    "spark_payment_df = spark_payment_df.withColumn(\"transaction_year\", year(\"transaction_date\"))\n",
    "spark_payment_df = spark_payment_df.withColumn(\"transaction_month\", month(\"transaction_date\"))\n",
    "spark_payment_df = spark_payment_df.withColumn(\"transaction_day_of_week\", dayofweek(\"transaction_date\"))\n",
    "\n",
    "# 2. Calculate days since last transaction (for each customer), so we can see if the customer is active or not\n",
    "window_spec = Window.partitionBy(\"customer_id\").orderBy(\"transaction_date\") # Window specification for the window function\n",
    "spark_payment_df = spark_payment_df.withColumn(\"days_since_last_transaction\", \n",
    "                                               datediff(\"transaction_date\", lag(\"transaction_date\").over(window_spec))) # lag is the previous row by partition via window specification\n",
    "\n",
    "# 3. Create a binary feature for high-value transactions, so we can see if the transaction is a high value transaction\n",
    "avg_payment = spark_payment_df.select(avg(\"payment_amount\")).first()[0]\n",
    "spark_payment_df = spark_payment_df.withColumn(\"is_high_value_transaction\", \n",
    "                                               when(col(\"payment_amount\") > avg_payment, 1).otherwise(0))\n",
    "\n",
    "# 4. Calculate customer lifetime value (CLV), this is the total amount of money a customer will spend on the business, it implies customer loyalty\n",
    "clv_df = spark_payment_df.groupBy(\"customer_id\").agg(sum(\"payment_amount\").alias(\"customer_lifetime_value\"))\n",
    "spark_payment_df = spark_payment_df.join(clv_df, on=\"customer_id\", how=\"left\")\n",
    "\n",
    "# 5. Create a binary feature for preferred payment method, this is to see if the customer is using their preferred payment method\n",
    "# we extract it by grouping the payment method by customer and ordering it by the count of the payment method, then we take the first row, which gives us the most used payment method\n",
    "preferred_payment_method = spark_payment_df.groupBy(\"customer_id\", \"payment_method\").count() \\\n",
    "                                           .withColumn(\"rank\", row_number().over(Window.partitionBy(\"customer_id\").orderBy(desc(\"count\")))) \\\n",
    "                                           .filter(col(\"rank\") == 1) \\\n",
    "                                           .select(\"customer_id\", \"payment_method\").withColumnRenamed(\"payment_method\", \"preferred_payment_method\")\n",
    "spark_payment_df = spark_payment_df.join(preferred_payment_method, on=\"customer_id\", how=\"left\") \\\n",
    "                                   .withColumn(\"is_preferred_payment_method\", \n",
    "                                               when(col(\"payment_method\") == col(\"preferred_payment_method\"), 1).otherwise(0))\n",
    "\n"
   ]
  },
  {
   "cell_type": "code",
   "execution_count": 5,
   "metadata": {},
   "outputs": [],
   "source": [
    "#strip time from transaction_date\n",
    "spark_payment_df = spark_payment_df.withColumn(\"transaction_date\", col(\"transaction_date\").cast(DateType()))"
   ]
  },
  {
   "cell_type": "code",
   "execution_count": 6,
   "metadata": {},
   "outputs": [
    {
     "name": "stdout",
     "output_type": "stream",
     "text": [
      "+----------------+\n",
      "|transaction_date|\n",
      "+----------------+\n",
      "|      2024-05-06|\n",
      "|      2024-04-01|\n",
      "|      2024-02-22|\n",
      "|      2024-09-24|\n",
      "|      2024-09-29|\n",
      "|      2024-08-21|\n",
      "|      2024-08-31|\n",
      "|      2024-08-15|\n",
      "|      2024-01-06|\n",
      "|      2024-03-16|\n",
      "|      2024-09-04|\n",
      "|      2024-10-01|\n",
      "|      2024-05-26|\n",
      "|      2024-02-21|\n",
      "|      2024-01-31|\n",
      "|      2024-06-29|\n",
      "|      2024-09-25|\n",
      "|      2024-02-12|\n",
      "|      2024-02-28|\n",
      "|      2024-02-13|\n",
      "+----------------+\n",
      "only showing top 20 rows\n",
      "\n"
     ]
    }
   ],
   "source": [
    "#check values in tx date\n",
    "spark_payment_df.select(\"transaction_date\").show()"
   ]
  },
  {
   "cell_type": "code",
   "execution_count": 7,
   "metadata": {},
   "outputs": [
    {
     "name": "stdout",
     "output_type": "stream",
     "text": [
      "+--------------------+------------+----------------+-------------+--------------------+\n",
      "|          product_id|product_name|product_category|product_price| product_description|\n",
      "+--------------------+------------+----------------+-------------+--------------------+\n",
      "|b3092659-9c09-47a...|         not|     Electronics|       140.27|Like factor organ...|\n",
      "|87e9cda0-1e1b-456...|        late|           Books|       943.64|Idea cut nearly p...|\n",
      "|6fc515b1-f72b-407...|      debate|        Clothing|       598.93|Various investmen...|\n",
      "|767818a7-acd5-486...|        last|           Books|       941.79|Set necessary res...|\n",
      "|bda8b365-a6a7-409...|       shake|     Electronics|       446.92|Left send ready its.|\n",
      "|6fe897a3-6d33-4b9...|     discuss|           Books|       884.03|Land commercial b...|\n",
      "|db737b8e-915f-4c8...|       those|           Books|       268.73|Dinner amount alo...|\n",
      "|7ff4721b-cff6-40d...|      health|        Clothing|       254.89|Us movement eithe...|\n",
      "|c7b7334e-934d-4ab...|       piece|     Electronics|        601.6| Painting often boy.|\n",
      "|a80b7273-5292-409...|   political|     Electronics|       281.62|Glass between sea...|\n",
      "|da2b0a37-728e-422...|     soldier|        Clothing|       147.77|  Either son detail.|\n",
      "|08812877-1aed-410...|     article|     Electronics|       650.66|Require wrong rel...|\n",
      "|71a6037d-50cc-462...|     mention|           Books|       697.81|Result provide in...|\n",
      "|8ee1da01-e74b-4d5...|       issue|           Books|         49.7|Age reality bag o...|\n",
      "|e431eae7-33a1-4de...|     compare|           Books|        836.2|Pressure value ev...|\n",
      "|fe2c0535-3c8e-4fa...|      within|     Electronics|       904.75|After stop fly pu...|\n",
      "|e64e2b71-ee54-4af...|         ten|     Electronics|       980.56|Learn report mind...|\n",
      "|3d50bb81-7850-4b0...|       serve|        Clothing|       251.82|He whatever value...|\n",
      "|d3508a66-dcea-4a8...|        task|     Electronics|       971.44|Piece rich part a...|\n",
      "|1c156245-bbdc-4f0...|        this|     Electronics|       307.64|Type player card ...|\n",
      "+--------------------+------------+----------------+-------------+--------------------+\n",
      "only showing top 20 rows\n",
      "\n"
     ]
    }
   ],
   "source": [
    "#check product data\n",
    "spark_product_df.show()"
   ]
  },
  {
   "cell_type": "code",
   "execution_count": 8,
   "metadata": {},
   "outputs": [],
   "source": [
    "# we will set up a snapshot system implementation\n",
    "# first we will add new fields, valid_from and valid_to and last extract date (to highlight the last date of the snapshot)\n",
    "\n",
    "from pyspark.sql.functions import lit # lit is used to create a new column with a constant value\n",
    "from datetime import date\n",
    "\n",
    "#define initial snappshot\n",
    "today = date.today()\n",
    "\n",
    "# create new snapshot DF's for product df\n",
    "\n",
    "snapshot_product_df = spark_product_df.withColumn(\"valid_from\", lit(today)) \\\n",
    "                                        .withColumn(\"valid_to\", lit(\"31-23-9999\")) \\\n",
    "                                        .withColumn(\"last_extract\", lit(1))"
   ]
  },
  {
   "cell_type": "code",
   "execution_count": 10,
   "metadata": {},
   "outputs": [],
   "source": [
    "# same for payment df\n",
    "snapshot_payment_df = spark_payment_df.withColumn(\"valid_from\", lit(today)) \\\n",
    "                                        .withColumn(\"valid_to\", lit(\"31-23-9999\")) \\\n",
    "                                        .withColumn(\"last_extract\", lit(1))"
   ]
  },
  {
   "cell_type": "code",
   "execution_count": 11,
   "metadata": {},
   "outputs": [
    {
     "name": "stdout",
     "output_type": "stream",
     "text": [
      "+--------------------+------------+----------------+-------------+--------------------+----------+----------+------------+\n",
      "|          product_id|product_name|product_category|product_price| product_description|valid_from|  valid_to|last_extract|\n",
      "+--------------------+------------+----------------+-------------+--------------------+----------+----------+------------+\n",
      "|b3092659-9c09-47a...|         not|     Electronics|       140.27|Like factor organ...|2024-10-20|31-23-9999|           1|\n",
      "|87e9cda0-1e1b-456...|        late|           Books|       943.64|Idea cut nearly p...|2024-10-20|31-23-9999|           1|\n",
      "|6fc515b1-f72b-407...|      debate|        Clothing|       598.93|Various investmen...|2024-10-20|31-23-9999|           1|\n",
      "|767818a7-acd5-486...|        last|           Books|       941.79|Set necessary res...|2024-10-20|31-23-9999|           1|\n",
      "|bda8b365-a6a7-409...|       shake|     Electronics|       446.92|Left send ready its.|2024-10-20|31-23-9999|           1|\n",
      "|6fe897a3-6d33-4b9...|     discuss|           Books|       884.03|Land commercial b...|2024-10-20|31-23-9999|           1|\n",
      "|db737b8e-915f-4c8...|       those|           Books|       268.73|Dinner amount alo...|2024-10-20|31-23-9999|           1|\n",
      "|7ff4721b-cff6-40d...|      health|        Clothing|       254.89|Us movement eithe...|2024-10-20|31-23-9999|           1|\n",
      "|c7b7334e-934d-4ab...|       piece|     Electronics|        601.6| Painting often boy.|2024-10-20|31-23-9999|           1|\n",
      "|a80b7273-5292-409...|   political|     Electronics|       281.62|Glass between sea...|2024-10-20|31-23-9999|           1|\n",
      "|da2b0a37-728e-422...|     soldier|        Clothing|       147.77|  Either son detail.|2024-10-20|31-23-9999|           1|\n",
      "|08812877-1aed-410...|     article|     Electronics|       650.66|Require wrong rel...|2024-10-20|31-23-9999|           1|\n",
      "|71a6037d-50cc-462...|     mention|           Books|       697.81|Result provide in...|2024-10-20|31-23-9999|           1|\n",
      "|8ee1da01-e74b-4d5...|       issue|           Books|         49.7|Age reality bag o...|2024-10-20|31-23-9999|           1|\n",
      "|e431eae7-33a1-4de...|     compare|           Books|        836.2|Pressure value ev...|2024-10-20|31-23-9999|           1|\n",
      "|fe2c0535-3c8e-4fa...|      within|     Electronics|       904.75|After stop fly pu...|2024-10-20|31-23-9999|           1|\n",
      "|e64e2b71-ee54-4af...|         ten|     Electronics|       980.56|Learn report mind...|2024-10-20|31-23-9999|           1|\n",
      "|3d50bb81-7850-4b0...|       serve|        Clothing|       251.82|He whatever value...|2024-10-20|31-23-9999|           1|\n",
      "|d3508a66-dcea-4a8...|        task|     Electronics|       971.44|Piece rich part a...|2024-10-20|31-23-9999|           1|\n",
      "|1c156245-bbdc-4f0...|        this|     Electronics|       307.64|Type player card ...|2024-10-20|31-23-9999|           1|\n",
      "+--------------------+------------+----------------+-------------+--------------------+----------+----------+------------+\n",
      "only showing top 20 rows\n",
      "\n",
      "+--------------------+--------------------+-------------------+--------------+--------------+----------------+--------------------+--------------------+----------------+-----------------+-----------------------+---------------------------+-------------------------+-----------------------+------------------------+---------------------------+----------+----------+------------+\n",
      "|         customer_id|      transaction_id|      customer_name|payment_amount|payment_method|transaction_date|             country|          product_id|transaction_year|transaction_month|transaction_day_of_week|days_since_last_transaction|is_high_value_transaction|customer_lifetime_value|preferred_payment_method|is_preferred_payment_method|valid_from|  valid_to|last_extract|\n",
      "+--------------------+--------------------+-------------------+--------------+--------------+----------------+--------------------+--------------------+----------------+-----------------+-----------------------+---------------------------+-------------------------+-----------------------+------------------------+---------------------------+----------+----------+------------+\n",
      "|0010cbcb-68f8-483...|dae035b0-83e7-45a...|Alexander Armstrong|        715.47| Bank Transfer|      2024-03-08|             Nigeria|9c5eedd1-88b6-46c...|            2024|                3|                      6|                       NULL|                        1|                 715.47|           Bank Transfer|                          1|2024-10-20|31-23-9999|           1|\n",
      "|0092cc6a-aff3-43e...|aa0466cf-2297-452...|         Joel Perry|         61.54|    Debit Card|      2024-05-30|            Slovenia|9b941411-e27b-4c7...|            2024|                5|                      5|                       NULL|                        0|                  61.54|              Debit Card|                          1|2024-10-20|31-23-9999|           1|\n",
      "|00b1ed56-6e92-4c2...|53bb5803-2897-4c6...|    Elizabeth Costa|        198.64| Bank Transfer|      2024-06-12|Heard Island and ...|50af1e90-45a4-4f0...|            2024|                6|                      4|                       NULL|                        0|                 198.64|           Bank Transfer|                          1|2024-10-20|31-23-9999|           1|\n",
      "|00e30611-0008-4bd...|f6fce3a0-6369-402...|     Richard Mendez|        146.24|        PayPal|      2024-09-18|                Peru|6b1d6989-e9c1-490...|            2024|                9|                      4|                       NULL|                        0|                 146.24|                  PayPal|                          1|2024-10-20|31-23-9999|           1|\n",
      "|01129252-2476-4fa...|d4b200e5-49c3-4ed...|        Jamie Brady|        414.32|        PayPal|      2024-03-13|            Zimbabwe|1630947f-74e1-4b9...|            2024|                3|                      4|                       NULL|                        0|                 414.32|                  PayPal|                          1|2024-10-20|31-23-9999|           1|\n",
      "|0127fd0c-0d78-467...|98d27437-025f-4f2...|    Stephanie Young|        118.03|   Credit Card|      2024-09-16|            Suriname|97f635ac-5d24-40b...|            2024|                9|                      2|                       NULL|                        0|                 118.03|             Credit Card|                          1|2024-10-20|31-23-9999|           1|\n",
      "|01317929-fc90-4ea...|396308ce-a607-4a8...| Christine Stephens|        825.18| Bank Transfer|      2024-01-03|             Ukraine|e50302ca-49f3-4ca...|            2024|                1|                      4|                       NULL|                        1|                 825.18|           Bank Transfer|                          1|2024-10-20|31-23-9999|           1|\n",
      "|024ef2ce-6294-4fe...|ccffa562-aeed-433...|      Timothy Horne|        184.07|   Credit Card|      2024-04-18|              Jersey|e30516f7-ecc5-449...|            2024|                4|                      5|                       NULL|                        0|                 184.07|             Credit Card|                          1|2024-10-20|31-23-9999|           1|\n",
      "|0259069d-21de-43b...|ba24e6a2-79d5-414...|   Madeline Cordova|        275.88|   Credit Card|      2024-09-15|              Latvia|991c478b-0f28-460...|            2024|                9|                      1|                       NULL|                        0|                 275.88|             Credit Card|                          1|2024-10-20|31-23-9999|           1|\n",
      "|02b446f0-e9e6-488...|734a90bb-85f4-446...|    Amanda Williams|        589.63| Bank Transfer|      2024-07-24|             Moldova|8fcd9c60-9d8d-41d...|            2024|                7|                      4|                       NULL|                        1|                 589.63|           Bank Transfer|                          1|2024-10-20|31-23-9999|           1|\n",
      "|02d4e2e1-cef0-457...|28006c26-b61a-492...|      Andrea Nguyen|        345.21|   Credit Card|      2024-08-16|          San Marino|564fd807-effa-42f...|            2024|                8|                      6|                       NULL|                        0|                 345.21|             Credit Card|                          1|2024-10-20|31-23-9999|           1|\n",
      "|034161a3-db34-434...|14dd1b10-4eaa-4a6...|       Wendy Jordan|        121.31|    Debit Card|      2024-08-10|            Ethiopia|db1171d8-23d6-49f...|            2024|                8|                      7|                       NULL|                        0|                 121.31|              Debit Card|                          1|2024-10-20|31-23-9999|           1|\n",
      "|0457c188-cd79-415...|7353df8d-8e12-44f...|    Kenneth Freeman|        178.76|   Credit Card|      2024-08-14|          Mozambique|3425e431-9ca3-4eb...|            2024|                8|                      4|                       NULL|                        0|                 178.76|             Credit Card|                          1|2024-10-20|31-23-9999|           1|\n",
      "|04675b52-965b-444...|e421bb8f-8a7c-414...|         James Webb|         159.1|        PayPal|      2024-01-25|               Congo|b2a3fd50-f8ff-4a9...|            2024|                1|                      5|                       NULL|                        0|                  159.1|                  PayPal|                          1|2024-10-20|31-23-9999|           1|\n",
      "|047aed7d-fc0e-4ed...|b6b4af99-0108-4ee...|     Melanie Harvey|        878.34|   Credit Card|      2024-04-23|              Jersey|60056ccb-220d-438...|            2024|                4|                      3|                       NULL|                        1|                 878.34|             Credit Card|                          1|2024-10-20|31-23-9999|           1|\n",
      "|049cfba6-451e-48c...|e707880d-7ec8-4dc...|           Amy Luna|         707.4|        PayPal|      2024-01-31|         Saint Lucia|f8f9290c-af25-4c6...|            2024|                1|                      4|                       NULL|                        1|                  707.4|                  PayPal|                          1|2024-10-20|31-23-9999|           1|\n",
      "|0515ec7f-4970-4c5...|89e12304-6a93-4b2...|         Megan Byrd|        540.68| Bank Transfer|      2024-02-14|Holy See (Vatican...|a5f0cd03-db0f-42e...|            2024|                2|                      4|                       NULL|                        1|                 540.68|           Bank Transfer|                          1|2024-10-20|31-23-9999|           1|\n",
      "|05666fb5-045c-488...|4d6f908d-7703-4fd...|    Patricia Vargas|        167.27|   Credit Card|      2024-01-22|              Greece|df007e77-45b4-4a0...|            2024|                1|                      2|                       NULL|                        0|                 167.27|             Credit Card|                          1|2024-10-20|31-23-9999|           1|\n",
      "|05837cef-6b3d-480...|00a10157-3260-4e7...|       Isaiah White|        987.15|   Credit Card|      2024-01-01|          Bangladesh|4169ac5a-ca92-4b2...|            2024|                1|                      2|                       NULL|                        1|                 987.15|             Credit Card|                          1|2024-10-20|31-23-9999|           1|\n",
      "|05bf7ec7-3b63-46a...|716938b3-1649-49c...|        Raven Lewis|        264.45|   Credit Card|      2024-06-11|     Kyrgyz Republic|4352bc50-466a-401...|            2024|                6|                      3|                       NULL|                        0|                 264.45|             Credit Card|                          1|2024-10-20|31-23-9999|           1|\n",
      "+--------------------+--------------------+-------------------+--------------+--------------+----------------+--------------------+--------------------+----------------+-----------------+-----------------------+---------------------------+-------------------------+-----------------------+------------------------+---------------------------+----------+----------+------------+\n",
      "only showing top 20 rows\n",
      "\n"
     ]
    }
   ],
   "source": [
    "#check snapshot product data\n",
    "snapshot_product_df.show()\n",
    "snapshot_payment_df.show()"
   ]
  }
 ],
 "metadata": {
  "kernelspec": {
   "display_name": "base",
   "language": "python",
   "name": "python3"
  },
  "language_info": {
   "codemirror_mode": {
    "name": "ipython",
    "version": 3
   },
   "file_extension": ".py",
   "mimetype": "text/x-python",
   "name": "python",
   "nbconvert_exporter": "python",
   "pygments_lexer": "ipython3",
   "version": "3.11.4"
  }
 },
 "nbformat": 4,
 "nbformat_minor": 2
}
